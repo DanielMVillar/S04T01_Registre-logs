{
 "cells": [
  {
   "cell_type": "markdown",
   "id": "cb6e194c",
   "metadata": {},
   "source": [
    "### Exercici 1\n",
    "#### Estandaritza, identifica i enumera cada un dels atributs / variables de l'estructura de l'arxiu \"Web_access_log-akumenius.com\" que trobaràs al repositori de GitHub \"Data-sources\"."
   ]
  },
  {
   "cell_type": "markdown",
   "id": "b032790a",
   "metadata": {},
   "source": [
    "A server log is a log file (or several files) automatically created and maintained by a server consisting of a list of activities it performed.\n",
    "\n",
    "There are generally two kinds of logs: access logs and error logs. \n",
    "This example is about an access log.\n",
    "\n",
    "Each record in the log file represents a single HTTP request.\n",
    "\n",
    "Example extracted from the log file:\n",
    "\n",
    "> www.akumenius.com 66.249.76.216 - - [23/Feb/2014:03:10:31 +0100] \"GET /hoteles-baratos/ofertas-hotel-Club-&-Hotel-Letoonia--en-Fethiye-8460b-destinos.html HTTP/1.1\" 404 3100 \"-\" \"Mozilla/5.0 (compatible; Googlebot/2.1; http://www.google.com/bot.html)\" VLOG=-\n",
    "\n",
    "+ Field 1 (www.akumenius.com): Host name.\n",
    "+ Field 2 (66.249.76.216): IP address of the client (remote host) which made the request to the server\n",
    "+ Field 3 (-): Identity of the client (the \"hyphen\" indicates that the requested piece of information is not available)\n",
    "+ Field 4 (-): Userid of the person requesting the document as determined by HTTP authentication (if the document is not password protected, this part will be \"-\" just like the previous one)\n",
    "+ Field 5 ([23/Feb/2014:03:10:31 +0100]): The time that the request was received \n",
    "    + Date format: [day/month/year:hour:minute:second zone] where day = 2*digit; month = 3*letter; year = 4*digit; hour = 2*digit; minute = 2*digit; second = 2*digit; zone = (`+' | `-') 4*digit\n",
    "+ Field 6 (\"GET /hoteles-baratos/ofertas-hotel-Club-&-Hotel-Letoonia--en-Fethiye-8460b-destinos.html #HTTP/1.1\"): Request line from the client (in double quotes). It contains a great deal of useful information: \n",
    "    + method used by the client (GET)\n",
    "    + resource requested (ofertas-hotel-Club-&-Hotel-Letoonia--en-Fethiye-8460b-destinos.html)  \n",
    "    + protocol (HTTP/1.1) \n",
    "\n",
    "+ Field 7 (404): Status code that the server sends back to the client (the full list of possible status codes can be found in the HTTP specification\n",
    "    + 2: successful response \n",
    "    + 3: redirection \n",
    "    + 4: error caused by the client \n",
    "    + 5: error in the server \n",
    "+ Field 8 (3100): size of the object returned to the client\n",
    "+ Field 9 (\"-\"): Site that the client reports having been referred from (if is not referred, it will be \"-\")\n",
    "+ Field 10 (\"Mozilla/5.0 (compatible; Googlebot/2.1; +http://www.google.com/bot.html)\"): Identifying information that the client browser reports about itself\n",
    "+ Field 11 (VLOG=-): ???"
   ]
  },
  {
   "cell_type": "markdown",
   "id": "440c0c37",
   "metadata": {},
   "source": [
    "### Exercici 2\n",
    "#### Neteja, preprocesa, estructura i transforma (dataframe) les dades del registre d'Accés a la web."
   ]
  },
  {
   "cell_type": "code",
   "execution_count": 1,
   "id": "d63a8ba3",
   "metadata": {},
   "outputs": [],
   "source": [
    "import numpy as np #library for scientific computing\n",
    "import pandas as pd #library for dataframes \n",
    "import re #library for regular expressions (regex)\n",
    "import warnings #library to manage warnings\n",
    "\n",
    "warnings.filterwarnings('ignore')"
   ]
  },
  {
   "cell_type": "code",
   "execution_count": 2,
   "id": "da89f89c",
   "metadata": {},
   "outputs": [
    {
     "name": "stdout",
     "output_type": "stream",
     "text": [
      "('localhost', '127.0.0.1', '-', '-', '[23/Feb/2014:03:10:31 +0100]', 'OPTIONS * HTTP/1.0', '200', '-', '-', 'Apache (internal dummy connection)', 'VLOG=-')\n"
     ]
    }
   ],
   "source": [
    "f1_Host = r'^(?P<Host>.*?)'\n",
    "f2_IP = r'(?P<IP>.*?)'\n",
    "f3_Identity = r'(?P<Identity>\\S+)'\n",
    "f4_User = r'(?P<User>\\S+)'\n",
    "f5_Time = r'(?P<Time>\\[.*?\\])'\n",
    "f6_Request = r'\\\"(?P<Request>.*?)\\\"'\n",
    "f7_Status = r'(?P<Status>\\d{3})'\n",
    "f8_Size = r'(?P<Size>\\S+)'\n",
    "f9_Reference = r'\\\"(?P<Reference>\\S+)\\\"'\n",
    "f10_Browser = r'\\\"(?P<Browser>.*?)\\\"'\n",
    "f11_Unknown = r'(?P<Unknown>.*)'\n",
    "Space = r'\\s'\n",
    "#each field has its regex expression\n",
    "#P<name>: the substring matched by the group is accessible via the group name\n",
    "\n",
    "regex = (f1_Host+Space+f2_IP+Space+f3_Identity+Space+f4_User+Space\n",
    "         +f5_Time+Space+f6_Request+Space+f7_Status+Space+f8_Size+Space\n",
    "         +f9_Reference+Space+f10_Browser+Space+f11_Unknown)\n",
    "#complete regex expression to capture info from the access log\n",
    "\n",
    "def parser(log_line):\n",
    "    match = re.search(regex,log_line)\n",
    "    return ((match.group('Host'), match.group('IP'),\n",
    "             match.group('Identity'), match.group('User'),\n",
    "           match.group('Time'), match.group('Request'),\n",
    "           match.group('Status'), match.group('Size'),\n",
    "           match.group('Reference'), match.group('Browser'),\n",
    "           match.group('Unknown')\n",
    "            ))\n",
    "#we create a parser method to check access log capture\n",
    "\n",
    "logLine = \"\"\"localhost 127.0.0.1 - - [23/Feb/2014:03:10:31 +0100] \"OPTIONS * HTTP/1.0\" 200 - \"-\" \"Apache (internal dummy connection)\" VLOG=-\"\"\"\n",
    "#this is an example of a record in the access log\n",
    "\n",
    "result = parser(logLine)\n",
    "print(result)\n",
    "#we check that the regex expression properly returns the fields we need from the access log"
   ]
  },
  {
   "cell_type": "code",
   "execution_count": 3,
   "id": "751fc6bb",
   "metadata": {},
   "outputs": [],
   "source": [
    "df_log = pd.read_csv('Web_access_log-akumenius.com.txt',\n",
    "    sep=regex,\n",
    "    na_values='-',\n",
    "    \n",
    "    names=['f1_Host', 'f2_IP', 'f3_Identity', 'f4_User', \n",
    "           'f5_Time', 'f6_Request', 'f7_Status', 'f8_Size',\n",
    "           'f9_Reference','f10_Browser','f11_Unknown','f12_NaN'])\n",
    "#we create a dataframe from the data captured in the access log using the regex we made before\n",
    "#the \"-\" values are changed to NaN\n"
   ]
  },
  {
   "cell_type": "code",
   "execution_count": 4,
   "id": "1a78105c",
   "metadata": {},
   "outputs": [],
   "source": [
    "df_log.index = range(1, 261874, 1)\n",
    "#we add an index"
   ]
  },
  {
   "cell_type": "code",
   "execution_count": 5,
   "id": "da568dfc",
   "metadata": {},
   "outputs": [
    {
     "name": "stdout",
     "output_type": "stream",
     "text": [
      "<class 'pandas.core.frame.DataFrame'>\n",
      "RangeIndex: 261873 entries, 1 to 261873\n",
      "Data columns (total 12 columns):\n",
      " #   Column        Non-Null Count   Dtype  \n",
      "---  ------        --------------   -----  \n",
      " 0   f1_Host       261872 non-null  object \n",
      " 1   f2_IP         261872 non-null  object \n",
      " 2   f3_Identity   0 non-null       float64\n",
      " 3   f4_User       27 non-null      object \n",
      " 4   f5_Time       261872 non-null  object \n",
      " 5   f6_Request    261835 non-null  object \n",
      " 6   f7_Status     261872 non-null  float64\n",
      " 7   f8_Size       219537 non-null  float64\n",
      " 8   f9_Reference  162325 non-null  object \n",
      " 9   f10_Browser   261653 non-null  object \n",
      " 10  f11_Unknown   261872 non-null  object \n",
      " 11  f12_NaN       0 non-null       float64\n",
      "dtypes: float64(4), object(8)\n",
      "memory usage: 24.0+ MB\n"
     ]
    }
   ],
   "source": [
    "df_log.info()\n",
    "#dataframe info"
   ]
  },
  {
   "cell_type": "code",
   "execution_count": 6,
   "id": "9b36255a",
   "metadata": {},
   "outputs": [
    {
     "data": {
      "text/html": [
       "<div>\n",
       "<style scoped>\n",
       "    .dataframe tbody tr th:only-of-type {\n",
       "        vertical-align: middle;\n",
       "    }\n",
       "\n",
       "    .dataframe tbody tr th {\n",
       "        vertical-align: top;\n",
       "    }\n",
       "\n",
       "    .dataframe thead th {\n",
       "        text-align: right;\n",
       "    }\n",
       "</style>\n",
       "<table border=\"1\" class=\"dataframe\">\n",
       "  <thead>\n",
       "    <tr style=\"text-align: right;\">\n",
       "      <th></th>\n",
       "      <th>f1_Host</th>\n",
       "      <th>f2_IP</th>\n",
       "      <th>f3_Identity</th>\n",
       "      <th>f4_User</th>\n",
       "      <th>f5_Time</th>\n",
       "      <th>f6_Request</th>\n",
       "      <th>f7_Status</th>\n",
       "      <th>f8_Size</th>\n",
       "      <th>f9_Reference</th>\n",
       "      <th>f10_Browser</th>\n",
       "      <th>f11_Unknown</th>\n",
       "      <th>f12_NaN</th>\n",
       "    </tr>\n",
       "  </thead>\n",
       "  <tbody>\n",
       "    <tr>\n",
       "      <th>1</th>\n",
       "      <td>localhost</td>\n",
       "      <td>127.0.0.1</td>\n",
       "      <td>NaN</td>\n",
       "      <td>NaN</td>\n",
       "      <td>[23/Feb/2014:03:10:31 +0100]</td>\n",
       "      <td>OPTIONS * HTTP/1.0</td>\n",
       "      <td>200.0</td>\n",
       "      <td>NaN</td>\n",
       "      <td>NaN</td>\n",
       "      <td>Apache (internal dummy connection)</td>\n",
       "      <td>VLOG=-</td>\n",
       "      <td>NaN</td>\n",
       "    </tr>\n",
       "    <tr>\n",
       "      <th>2</th>\n",
       "      <td>localhost</td>\n",
       "      <td>127.0.0.1</td>\n",
       "      <td>NaN</td>\n",
       "      <td>NaN</td>\n",
       "      <td>[23/Feb/2014:03:10:31 +0100]</td>\n",
       "      <td>OPTIONS * HTTP/1.0</td>\n",
       "      <td>200.0</td>\n",
       "      <td>NaN</td>\n",
       "      <td>NaN</td>\n",
       "      <td>Apache (internal dummy connection)</td>\n",
       "      <td>VLOG=-</td>\n",
       "      <td>NaN</td>\n",
       "    </tr>\n",
       "    <tr>\n",
       "      <th>3</th>\n",
       "      <td>localhost</td>\n",
       "      <td>127.0.0.1</td>\n",
       "      <td>NaN</td>\n",
       "      <td>NaN</td>\n",
       "      <td>[23/Feb/2014:03:10:31 +0100]</td>\n",
       "      <td>OPTIONS * HTTP/1.0</td>\n",
       "      <td>200.0</td>\n",
       "      <td>NaN</td>\n",
       "      <td>NaN</td>\n",
       "      <td>Apache (internal dummy connection)</td>\n",
       "      <td>VLOG=-</td>\n",
       "      <td>NaN</td>\n",
       "    </tr>\n",
       "    <tr>\n",
       "      <th>4</th>\n",
       "      <td>localhost</td>\n",
       "      <td>127.0.0.1</td>\n",
       "      <td>NaN</td>\n",
       "      <td>NaN</td>\n",
       "      <td>[23/Feb/2014:03:10:31 +0100]</td>\n",
       "      <td>OPTIONS * HTTP/1.0</td>\n",
       "      <td>200.0</td>\n",
       "      <td>NaN</td>\n",
       "      <td>NaN</td>\n",
       "      <td>Apache (internal dummy connection)</td>\n",
       "      <td>VLOG=-</td>\n",
       "      <td>NaN</td>\n",
       "    </tr>\n",
       "    <tr>\n",
       "      <th>5</th>\n",
       "      <td>localhost</td>\n",
       "      <td>127.0.0.1</td>\n",
       "      <td>NaN</td>\n",
       "      <td>NaN</td>\n",
       "      <td>[23/Feb/2014:03:10:31 +0100]</td>\n",
       "      <td>OPTIONS * HTTP/1.0</td>\n",
       "      <td>200.0</td>\n",
       "      <td>NaN</td>\n",
       "      <td>NaN</td>\n",
       "      <td>Apache (internal dummy connection)</td>\n",
       "      <td>VLOG=-</td>\n",
       "      <td>NaN</td>\n",
       "    </tr>\n",
       "  </tbody>\n",
       "</table>\n",
       "</div>"
      ],
      "text/plain": [
       "     f1_Host      f2_IP  f3_Identity f4_User                       f5_Time  \\\n",
       "1  localhost  127.0.0.1          NaN     NaN  [23/Feb/2014:03:10:31 +0100]   \n",
       "2  localhost  127.0.0.1          NaN     NaN  [23/Feb/2014:03:10:31 +0100]   \n",
       "3  localhost  127.0.0.1          NaN     NaN  [23/Feb/2014:03:10:31 +0100]   \n",
       "4  localhost  127.0.0.1          NaN     NaN  [23/Feb/2014:03:10:31 +0100]   \n",
       "5  localhost  127.0.0.1          NaN     NaN  [23/Feb/2014:03:10:31 +0100]   \n",
       "\n",
       "           f6_Request  f7_Status  f8_Size f9_Reference  \\\n",
       "1  OPTIONS * HTTP/1.0      200.0      NaN          NaN   \n",
       "2  OPTIONS * HTTP/1.0      200.0      NaN          NaN   \n",
       "3  OPTIONS * HTTP/1.0      200.0      NaN          NaN   \n",
       "4  OPTIONS * HTTP/1.0      200.0      NaN          NaN   \n",
       "5  OPTIONS * HTTP/1.0      200.0      NaN          NaN   \n",
       "\n",
       "                          f10_Browser f11_Unknown  f12_NaN  \n",
       "1  Apache (internal dummy connection)      VLOG=-      NaN  \n",
       "2  Apache (internal dummy connection)      VLOG=-      NaN  \n",
       "3  Apache (internal dummy connection)      VLOG=-      NaN  \n",
       "4  Apache (internal dummy connection)      VLOG=-      NaN  \n",
       "5  Apache (internal dummy connection)      VLOG=-      NaN  "
      ]
     },
     "execution_count": 6,
     "metadata": {},
     "output_type": "execute_result"
    }
   ],
   "source": [
    "df_log.head()\n",
    "#first logs from the dataframe"
   ]
  },
  {
   "cell_type": "code",
   "execution_count": 7,
   "id": "0fd64826",
   "metadata": {},
   "outputs": [
    {
     "data": {
      "text/plain": [
       "f1_Host              1\n",
       "f2_IP                1\n",
       "f3_Identity     261873\n",
       "f4_User         261846\n",
       "f5_Time              1\n",
       "f6_Request          38\n",
       "f7_Status            1\n",
       "f8_Size          42336\n",
       "f9_Reference     99548\n",
       "f10_Browser        220\n",
       "f11_Unknown          1\n",
       "f12_NaN         261873\n",
       "dtype: int64"
      ]
     },
     "execution_count": 7,
     "metadata": {},
     "output_type": "execute_result"
    }
   ],
   "source": [
    "df_log.isna().sum() \n",
    "#NaN amount"
   ]
  },
  {
   "cell_type": "code",
   "execution_count": 8,
   "id": "3ead6fd3",
   "metadata": {},
   "outputs": [
    {
     "data": {
      "text/plain": [
       "Index(['f1_Host', 'f2_IP', 'f3_Identity', 'f4_User', 'f5_Time', 'f6_Request',\n",
       "       'f7_Status', 'f8_Size', 'f9_Reference', 'f10_Browser', 'f11_Unknown',\n",
       "       'f12_NaN', 'f5_Time_date', 'f5_Time_hour', 'f5_Time_zone',\n",
       "       'f6_Request_method', 'f6_Request_URL', 'f6_Request_protocol',\n",
       "       'f10_Browser_version'],\n",
       "      dtype='object')"
      ]
     },
     "execution_count": 8,
     "metadata": {},
     "output_type": "execute_result"
    }
   ],
   "source": [
    "import re\n",
    "\n",
    "#fields 5, 6 and 10 can be split to obtain some valuable information\n",
    "\n",
    "df_log['f5_Time_date'] = df_log['f5_Time'].str.slice(1,11)\n",
    "df_log['f5_Time_hour'] = df_log['f5_Time'].str.slice(13,21)\n",
    "df_log['f5_Time_zone'] = df_log['f5_Time'].str.slice(22,27)\n",
    "#we create a column for date, hour and time zone using the slice method\n",
    "#we can use the slice method instead regex because the time field always have the same size\n",
    "\n",
    "df_log['f6_Request_method'] = df_log['f6_Request'].str.extract(r'(^.*?\\s)')\n",
    "df_log['f6_Request_URL'] = df_log['f6_Request'].str.extract(r'(\\s.*?\\s)')\n",
    "df_log['f6_Request_protocol'] = df_log['f6_Request'].str.extract(r'([\\S]+$)')\n",
    "#we create a column for method, URL and protocol using the regex expression\n",
    "\n",
    "df_log1 = df_log['f10_Browser'].str.extract(r'(^.*?\\()')\n",
    "df_log['f10_Browser_version'] = df_log1[0].str.strip('(')\n",
    "#we create a column for the browser using the regex expression and deleting the first parenthesis\n",
    "\n",
    "df_log.columns\n",
    "#we have now these columns"
   ]
  },
  {
   "cell_type": "markdown",
   "id": "1c0177ff",
   "metadata": {},
   "source": [
    "### Exercici 3\n",
    "#### Geolocalitza les IP's."
   ]
  },
  {
   "cell_type": "code",
   "execution_count": 9,
   "id": "e6d1ed0f",
   "metadata": {},
   "outputs": [
    {
     "data": {
      "text/plain": [
       "66.249.76.216     46382\n",
       "80.28.221.123     14725\n",
       "127.0.0.1         13892\n",
       "217.125.71.222     5201\n",
       "66.249.75.148      3558\n",
       "                  ...  \n",
       "46.236.23.222         1\n",
       "189.130.53.227        1\n",
       "217.251.135.62        1\n",
       "46.236.24.53          1\n",
       "202.46.61.26          1\n",
       "Name: f2_IP, Length: 2921, dtype: int64"
      ]
     },
     "execution_count": 9,
     "metadata": {},
     "output_type": "execute_result"
    }
   ],
   "source": [
    "df_log[\"f2_IP\"].value_counts()\n",
    "#it shows how many IPs have accessed the server and how many times\n",
    "#we can see there are 2921 differents IPs"
   ]
  },
  {
   "cell_type": "code",
   "execution_count": 3,
   "id": "e91e2504",
   "metadata": {},
   "outputs": [
    {
     "name": "stdout",
     "output_type": "stream",
     "text": [
      "Enter the IP to geolocate:\n",
      "80.28.221.123\n",
      "IP geolocation details for the  80.28.221.123 are:\n",
      "City:  Madrid\n",
      "Region:  Madrid\n",
      "Country:  ES\n",
      "Provider:  AS3352 TELEFONICA DE ESPANA\n"
     ]
    }
   ],
   "source": [
    "import json #library to work with javascript language expressions\n",
    "import urllib.request #library to use internet resources\n",
    "\n",
    "print (\"Enter the IP to geolocate:\")\n",
    "IP_user = input()\n",
    "#the user enters an IP\n",
    "\n",
    "url = 'http://ipinfo.io/'+IP_user+'/json'\n",
    "response = urllib.request.urlopen(url)\n",
    "data = json.load(response)\n",
    "#the users IP its checked in a specific website and returns IP geolocation\n",
    "\n",
    "IP=data['ip']\n",
    "org=data['org']\n",
    "city = data['city']\n",
    "country=data['country']\n",
    "region=data['region']\n",
    "\n",
    "print(\"IP geolocation details for the \", IP_user,\"are:\")\n",
    "print(\"City: \", city)\n",
    "print(\"Region: \", region)\n",
    "print(\"Country: \", country)\n",
    "print(\"Provider: \", org)\n",
    "\n",
    "#the 10 most IP visiting the web are from: \n",
    "#66.249.76.216      46382 BE\n",
    "#80.28.221.123      14725 ES\n",
    "#127.0.0.1          13892 local host\n",
    "#217.125.71.222      5201 ES\n",
    "#66.249.75.148       3558 US\n",
    "#162.243.192.191     2927 US\n",
    "#62.117.197.230      2567 ES\n",
    "#89.128.176.162      1093 ES\n",
    "#198.143.133.154     1045 US\n",
    "#176.31.255.177      1044 FR\n",
    "\n",
    "#the IP that visits the most is from BELGIUM, the remain IPs are much less"
   ]
  },
  {
   "cell_type": "markdown",
   "id": "09c4ff58",
   "metadata": {},
   "source": [
    "### Exercici 4\n",
    "#### Mostra'm la teva creativitat, Sorprèn-me fes un pas més enllà amb l'anàlisi anterior."
   ]
  },
  {
   "cell_type": "code",
   "execution_count": 11,
   "id": "6353caf1",
   "metadata": {},
   "outputs": [
    {
     "data": {
      "text/plain": [
       "Mozilla/5.0                 222005\n",
       "Mozilla/4.0                  18633\n",
       "Apache                       13892\n",
       "facebookexternalhit/1.1       2032\n",
       "Mozilla/5.0+                  1646\n",
       "Wget/1.12                     1066\n",
       "ia_archiver                    384\n",
       "DoCoMo/2.0 N905i               329\n",
       "Opera/9.80                     227\n",
       "msnbot/2.0b                    161\n",
       "Name: f10_Browser_version, dtype: int64"
      ]
     },
     "execution_count": 11,
     "metadata": {},
     "output_type": "execute_result"
    }
   ],
   "source": [
    "df_log[\"f10_Browser_version\"].value_counts().nlargest(10)\n",
    "#the most popular browsers is Mozilla in different versions"
   ]
  },
  {
   "cell_type": "code",
   "execution_count": 12,
   "id": "9db73a5c",
   "metadata": {},
   "outputs": [
    {
     "data": {
      "text/plain": [
       " *                                                                  13892\n",
       " /destinos-get                                                       8115\n",
       " /                                                                   4058\n",
       " /hotel-list-data/                                                   2342\n",
       " /modules/raton/views/themes/bcoos/images/boto_home_reserva.png      1754\n",
       " /includes/images/uploaded/logo.png                                  1740\n",
       " /modules/raton/views/themes/bcoos/images/boto_home_planea.png       1738\n",
       " /modules/raton/views/themes/bcoos/images/boto_home_elige.png        1731\n",
       " /raton-search                                                       1694\n",
       " /hotel-list                                                         1666\n",
       "Name: f6_Request_URL, dtype: int64"
      ]
     },
     "execution_count": 12,
     "metadata": {},
     "output_type": "execute_result"
    }
   ],
   "source": [
    "df_log[\"f6_Request_URL\"].value_counts().nlargest(10)\n",
    "#the most popular URL requested for this web"
   ]
  },
  {
   "cell_type": "code",
   "execution_count": 13,
   "id": "8526999b",
   "metadata": {},
   "outputs": [
    {
     "data": {
      "text/plain": [
       "http://www.akumenius.com/                                                                                        41394\n",
       "http://www.akumenius.com/hotel-list                                                                              22039\n",
       "http://test.akumenius.com/newdesign/                                                                             11839\n",
       "http://www.akumenius.com/hoteles-baratos/hoteles-todo-incluido.html                                               5398\n",
       "http://www.akumenius.com/chollos                                                                                  4390\n",
       "http://www.akumenius.com/escapadas                                                                                3708\n",
       "http://www.akumenius.com/escapadas/escapada-golf-islantilla-golf-resort-0437afab49458d7bd5a48954a459ad6d.html     3057\n",
       "http://www.akumenius.com/escapadas/escapada-golf-hotel-elba-estepona-0cc275f95c9f11febf96eedab9465da3.html        2164\n",
       "http://www.akumenius.com/escapadas/golf-500.html                                                                  1809\n",
       "http://www.akumenius.com/hotel-list?type=e                                                                        1440\n",
       "Name: f9_Reference, dtype: int64"
      ]
     },
     "execution_count": 13,
     "metadata": {},
     "output_type": "execute_result"
    }
   ],
   "source": [
    "df_log[\"f9_Reference\"].value_counts().nlargest(10)\n",
    "#references are from the akumenius site, there are not from other websites, which is strange"
   ]
  },
  {
   "cell_type": "code",
   "execution_count": 14,
   "id": "fcfce105",
   "metadata": {},
   "outputs": [
    {
     "data": {
      "text/plain": [
       "200.0    226381\n",
       "304.0     25269\n",
       "404.0      8630\n",
       "301.0       870\n",
       "206.0       304\n",
       "403.0       194\n",
       "302.0       109\n",
       "502.0        44\n",
       "408.0        37\n",
       "400.0        26\n",
       "Name: f7_Status, dtype: int64"
      ]
     },
     "execution_count": 14,
     "metadata": {},
     "output_type": "execute_result"
    }
   ],
   "source": [
    "df_log[\"f7_Status\"].value_counts().nlargest(10)\n",
    "#we can see the status code for the server. The are a lot of redirections and error responses"
   ]
  },
  {
   "cell_type": "code",
   "execution_count": 24,
   "id": "50544b23",
   "metadata": {},
   "outputs": [
    {
     "data": {
      "text/plain": [
       "GET /favicon.ico HTTP/1.1                                                                                              138\n",
       "GET /hoteles-baratos/ofertas-hotel-Castillo-del-Buen-Amor-en-Topas-25543b-destinos.html HTTP/1.1                         6\n",
       "GET /hoteles-baratos/ofertas-hotel-Solvasa-Valencia-en-Valencia-43240b-destinos.html HTTP/1.1                            4\n",
       "GET /hoteles-baratos/ofertas-hotel-Hospederia-del-Zenete-en-La%20Calahorra-124271b-destinos.html HTTP/1.1                4\n",
       "GET /hoteles-baratos/ofertas-hoteles-en-paris.html HTTP/1.1                                                              3\n",
       "                                                                                                                      ... \n",
       "GET /destinos-baratos/hoteles-baratos/ofertas-hotel-Le-Suffren-en-Port%20Grimaud-198062b-destinos.html HTTP/1.1          1\n",
       "GET /hoteles-baratos/ofertas-hotel-Aptoasis-Papagayo-en-CORRALEJO%20(FUERTEVENTURA)-2984912t-destinos.html HTTP/1.1      1\n",
       "GET /destinos-baratos/hoteles-baratos/ofertas-hotel-Hostal-Mont--Royal-en-Alicante-216675b-destinos.html HTTP/1.1        1\n",
       "GET /destinos-baratos/hoteles-baratos/ofertas-hotel-Dos-Anjos-en-Lisboa-5282b-destinos.html HTTP/1.1                     1\n",
       "GET /destinos-baratos/hoteles-baratos/ofertas-hotel-Colon-en-Benidorm-167411b-destinos.html HTTP/1.1                     1\n",
       "Name: f6_Request, Length: 8230, dtype: int64"
      ]
     },
     "execution_count": 24,
     "metadata": {},
     "output_type": "execute_result"
    }
   ],
   "source": [
    "df_log_404 = df_log[df_log[\"f7_Status\"] == 404.0]\n",
    "df_log_404[\"f6_Request\"].value_counts()\n",
    "#for example for error 404 we can filter what are the webpages with more errors and prevent it\n",
    "#it looks like the most common 404 error is when the user clicks on the favicon icon\n"
   ]
  },
  {
   "cell_type": "code",
   "execution_count": 23,
   "id": "9c65c49d",
   "metadata": {},
   "outputs": [
    {
     "data": {
      "text/plain": [
       "Mozilla/5.0                 8553\n",
       "ia_archiver                   52\n",
       "facebookexternalhit/1.1       13\n",
       "Mozilla/4.0                    8\n",
       "AdsBot-Google                  1\n",
       "msnbot-media/1.1               1\n",
       "Opera/9.80                     1\n",
       "Name: f10_Browser_version, dtype: int64"
      ]
     },
     "execution_count": 23,
     "metadata": {},
     "output_type": "execute_result"
    }
   ],
   "source": [
    "df_log_404[\"f10_Browser_version\"].value_counts()\n",
    "#we can also filter if these errors are associated to a specific browser"
   ]
  },
  {
   "cell_type": "code",
   "execution_count": null,
   "id": "dee50bb5",
   "metadata": {},
   "outputs": [],
   "source": []
  }
 ],
 "metadata": {
  "kernelspec": {
   "display_name": "Python 3",
   "language": "python",
   "name": "python3"
  },
  "language_info": {
   "codemirror_mode": {
    "name": "ipython",
    "version": 3
   },
   "file_extension": ".py",
   "mimetype": "text/x-python",
   "name": "python",
   "nbconvert_exporter": "python",
   "pygments_lexer": "ipython3",
   "version": "3.9.1"
  }
 },
 "nbformat": 4,
 "nbformat_minor": 5
}
